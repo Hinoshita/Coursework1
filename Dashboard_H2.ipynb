{
 "cells": [
  {
   "cell_type": "markdown",
   "metadata": {},
   "source": [
    "# DIY Covid-19 Dashboard"
   ]
  },
  {
   "cell_type": "code",
   "execution_count": 1,
   "metadata": {},
   "outputs": [],
   "source": [
    "import ipywidgets as wdg\n",
    "import pandas as pd\n",
    "import numpy as np\n",
    "import matplotlib.pyplot as plt\n",
    "import json\n",
    "import time\n",
    "from uk_covid19 import Cov19API"
   ]
  },
  {
   "cell_type": "code",
   "execution_count": 2,
   "metadata": {},
   "outputs": [],
   "source": [
    "%matplotlib inline\n",
    "# make figures larger\n",
    "plt.rcParams['figure.dpi'] = 100"
   ]
  },
  {
   "cell_type": "markdown",
   "metadata": {},
   "source": [
    "# 1) Data by nations"
   ]
  },
  {
   "cell_type": "markdown",
   "metadata": {},
   "source": [
    "- The graphs display daily new cases and new deaths for each nation (England, Scotland, Wales and Northern Ireland).\n",
    "- You can switch nations and scales (linear or log) by selecting options. You can also select multiple nations.\n",
    "- By clicking the button below, you can download the latest UK governmnet data and refresh the graph. The button can be pressed only once."
   ]
  },
  {
   "cell_type": "code",
   "execution_count": 3,
   "metadata": {},
   "outputs": [],
   "source": [
    "# opening json files prepared in the directory\n",
    "with open(\"England.json\", \"rt\") as INFILE:\n",
    "    dataEngland=json.load(INFILE)\n",
    "with open(\"Scotland.json\", \"rt\") as INFILE:\n",
    "    dataScotland=json.load(INFILE)  \n",
    "with open(\"Wales.json\", \"rt\") as INFILE:\n",
    "    dataWales=json.load(INFILE)  \n",
    "with open(\"Northern Ireland.json\", \"rt\") as INFILE:\n",
    "    dataNorthernIreland=json.load(INFILE)  "
   ]
  },
  {
   "cell_type": "code",
   "execution_count": 4,
   "metadata": {},
   "outputs": [],
   "source": [
    "# function creating pandas dataframe from json file. It is called by CombineNationsDF()\n",
    "def creatDF(nationData):\n",
    "    datalist = nationData[\"data\"] # ectract the data part of the json file\n",
    "    \n",
    "    # identify the range of date\n",
    "    dates=[dictionary['date'] for dictionary in datalist ]\n",
    "    dates.sort()\n",
    "    start_date = pd.to_datetime(dates[0], format=\"%Y-%m-%d\")\n",
    "    end_date = pd.to_datetime(dates[-1], format=\"%Y-%m-%d\")\n",
    "    \n",
    "    # create an empty dataframe with the range of date\n",
    "    index=pd.date_range(start_date, end_date, freq='D')\n",
    "    df=pd.DataFrame(index=index, columns=['newCase', 'newDeath'])\n",
    "    \n",
    "    # populate the dataframe\n",
    "    for entry in datalist: # each entry is a dictionary with date, cases and deaths\n",
    "        date = pd.to_datetime(entry['date'], format=\"%Y-%m-%d\")\n",
    "        for column in ['newCase', 'newDeath']:\n",
    "            if pd.isna(df.loc[date, column]): \n",
    "                # replace None with 0 in our data \n",
    "                value= float(entry[column]) if entry[column]!=None else 0.0\n",
    "            df.loc[date, column]=value\n",
    "    df.fillna(0.0, inplace=True) # fill in any remaining \"holes\" due to missing dates\n",
    "\n",
    "    return df"
   ]
  },
  {
   "cell_type": "code",
   "execution_count": 5,
   "metadata": {},
   "outputs": [],
   "source": [
    "# function creating one dataframe contains four nations' data from jason files of the nations\n",
    "def CombineNationsDF(England, Scotland, Wales, NorthernIreland):\n",
    "    # creates dataframes for each nation\n",
    "    englandDF=creatDF(England)\n",
    "    scotlandDF=creatDF(Scotland)\n",
    "    nirelandDF=creatDF(Wales)\n",
    "    walesDF=creatDF(NorthernIreland)\n",
    "    \n",
    "    # combine four nation DFs\n",
    "    nationsDF=englandDF.merge(scotlandDF, left_index=True, right_index=True).\\\n",
    "    merge(nirelandDF, left_index=True, right_index=True).\\\n",
    "    merge(walesDF, left_index=True, right_index=True)\n",
    "    \n",
    "    # rename column names\n",
    "    nationsDF.columns = ['newCaseEngland', 'newDeathEngland', 'newCaseScotland','newDeathScotland',\n",
    "                     'newCaseNorthernIreland', 'newDeathNorthernIreland', 'newCaseWales','newDeathWales']\n",
    "    \n",
    "    return nationsDF"
   ]
  },
  {
   "cell_type": "code",
   "execution_count": 6,
   "metadata": {},
   "outputs": [],
   "source": [
    "nationsDF = CombineNationsDF(dataEngland, dataScotland, dataWales, dataNorthernIreland)"
   ]
  },
  {
   "cell_type": "code",
   "execution_count": 7,
   "metadata": {},
   "outputs": [],
   "source": [
    "# function downloading json data from UK government website. It is called by api_button_callback()\n",
    "def access_api(nation): # nations are \"England\", \"Scotland\", \"Wales\" and \"Northern Ireland\"\n",
    "    filters = [\n",
    "    'areaType=nation',\n",
    "    \"areaName=\"+nation+ \"\\\"\"\n",
    "        ]\n",
    "    structure = {\n",
    "        \"date\": \"date\",\n",
    "        \"newCase\": \"newCasesByPublishDate\",\n",
    "        \"newDeath\": \"newDeaths28DaysByPublishDate\"\n",
    "        }\n",
    "\n",
    "    api = Cov19API(filters=filters, structure=structure)\n",
    "    data = api.get_json()\n",
    "    time.sleep(1) # wait one second after downloading to prevent too much access for the website\n",
    "    return data"
   ]
  },
  {
   "cell_type": "code",
   "execution_count": 8,
   "metadata": {},
   "outputs": [
    {
     "data": {
      "application/vnd.jupyter.widget-view+json": {
       "model_id": "7b220621cbfd454182f7c07c82c54d36",
       "version_major": 2,
       "version_minor": 0
      },
      "text/plain": [
       "Button(button_style='danger', description='Refresh data', icon='download', style=ButtonStyle(), tooltip='Click…"
      ]
     },
     "metadata": {},
     "output_type": "display_data"
    }
   ],
   "source": [
    "# API access function. It will be called when a user press the refresh button\n",
    "def api_button_callback(button):\n",
    "    # start message\n",
    "    print(\"I'm downloading and updating data from the API...\")\n",
    "\n",
    "    # download data via API\n",
    "    dataEngland= access_api(\"England\")\n",
    "    dataScotland= access_api(\"Scotland\")\n",
    "    dataWales= access_api(\"Wales\")\n",
    "    dataNorthernIreland= access_api(\"Northern Ireland\")\n",
    "\n",
    "    # create dataframe from json file        \n",
    "    nationsDF = CombineNationsDF(dataEngland, dataScotland, dataWales, dataNorthernIreland)\n",
    "\n",
    "    # refresh_graph\n",
    "    refresh_graph()\n",
    "    \n",
    "    # end message\n",
    "    print(\"...all done.\")\n",
    "    apibutton.icon=\"check\"\n",
    "    apibutton.button_style=\"info\"\n",
    "    apibutton.description=\"Success\"    \n",
    "    apibutton.disabled=True # the button can be pressed only once\n",
    "        \n",
    "apibutton=wdg.Button(\n",
    "    description='Refresh data',\n",
    "    disabled=False,\n",
    "    button_style='danger',\n",
    "    tooltip='Click to download current Public Health England data',\n",
    "    icon='download'\n",
    ")\n",
    "\n",
    "# register the callback function with the button\n",
    "apibutton.on_click(api_button_callback)\n",
    "\n",
    "# display the widgets\n",
    "display(apibutton)"
   ]
  },
  {
   "cell_type": "markdown",
   "metadata": {},
   "source": [
    "## a) New cases by nations"
   ]
  },
  {
   "cell_type": "code",
   "execution_count": 10,
   "metadata": {},
   "outputs": [
    {
     "data": {
      "application/vnd.jupyter.widget-view+json": {
       "model_id": "30de9b5d825a452fbb2fce1e4a40035c",
       "version_major": 2,
       "version_minor": 0
      },
      "text/plain": [
       "HBox(children=(Output(), VBox(children=(SelectMultiple(description='Nations:', index=(0, 1, 2, 3), options=('n…"
      ]
     },
     "metadata": {},
     "output_type": "display_data"
    }
   ],
   "source": [
    "# selecters for nations\n",
    "nations_cases=wdg.SelectMultiple(\n",
    "    options=['newCaseEngland', 'newCaseScotland', 'newCaseNorthernIreland', 'newCaseWales'],\n",
    "    value=['newCaseEngland', 'newCaseScotland', 'newCaseNorthernIreland', 'newCaseWales'],\n",
    "    rows=4,\n",
    "    description='Nations:',\n",
    "    disabled=False\n",
    ")\n",
    "\n",
    "# selecters for scales\n",
    "scale1=wdg.RadioButtons(\n",
    "    options=['linear', 'log'],\n",
    "    description='Scale:',\n",
    "    disabled=False\n",
    ")\n",
    "\n",
    "# function for drawing a graph\n",
    "def nations_graph1(gcols, gscale):\n",
    "    if gscale=='linear':\n",
    "        logscale=False\n",
    "    else:\n",
    "        logscale=True\n",
    "    ncols=len(gcols)\n",
    "    if ncols>0:\n",
    "        nationsDF[list(gcols)].plot(logy=logscale)\n",
    "    else:\n",
    "        print(\"Click to select data for graph\")\n",
    "        print(\"(CTRL-Click to select more than one category)\")\n",
    "\n",
    "# define a widget of the graph\n",
    "graph=wdg.interactive_output(nations_graph1, {'gcols': nations_cases, 'gscale': scale1})\n",
    "\n",
    "# define a widget of the controls\n",
    "ctrls=wdg.VBox([nations_cases, scale1])\n",
    "\n",
    "# display the graph and controls in a horizontal layout\n",
    "display(wdg.HBox([graph, ctrls]))"
   ]
  },
  {
   "cell_type": "markdown",
   "metadata": {},
   "source": [
    "## b) New deaths by nations"
   ]
  },
  {
   "cell_type": "code",
   "execution_count": 10,
   "metadata": {
    "scrolled": true
   },
   "outputs": [
    {
     "data": {
      "application/vnd.jupyter.widget-view+json": {
       "model_id": "fd841e43832f48a6a08513e9c082cb18",
       "version_major": 2,
       "version_minor": 0
      },
      "text/plain": [
       "HBox(children=(Output(), VBox(children=(SelectMultiple(description='Nations:', index=(0, 1, 2, 3), options=('n…"
      ]
     },
     "metadata": {},
     "output_type": "display_data"
    }
   ],
   "source": [
    "# selecters for nations\n",
    "nations_deaths=wdg.SelectMultiple(\n",
    "    options=['newDeathEngland', 'newDeathScotland', 'newDeathNorthernIreland', 'newDeathWales'],\n",
    "    value=['newDeathEngland', 'newDeathScotland', 'newDeathNorthernIreland', 'newDeathWales'],\n",
    "    rows=4,\n",
    "    description='Nations:',\n",
    "    disabled=False\n",
    ")\n",
    "\n",
    "# selecters for scales\n",
    "scale2=wdg.RadioButtons(\n",
    "    options=['linear', 'log'],\n",
    "    description='Scale:',\n",
    "    disabled=False\n",
    ")\n",
    "\n",
    "# function for drawing a graph\n",
    "def nations_graph2(gcols, gscale):\n",
    "    if gscale=='linear':\n",
    "        logscale=False\n",
    "    else:\n",
    "        logscale=True\n",
    "    ncols=len(gcols)\n",
    "    if ncols>0:\n",
    "        nationsDF[list(gcols)].plot(logy=logscale)\n",
    "    else:\n",
    "        print(\"Click to select data for graph\")\n",
    "        print(\"(CTRL-Click to select more than one category)\")\n",
    "            \n",
    "# define a widget of the graph\n",
    "graph=wdg.interactive_output(nations_graph2, {'gcols': nations_deaths, 'gscale': scale2})\n",
    "\n",
    "# define a widget of the controls\n",
    "ctrls=wdg.VBox([nations_deaths, scale2])\n",
    "\n",
    "# display the graph and controls in a horizontal layout\n",
    "display(wdg.HBox([graph, ctrls]))"
   ]
  },
  {
   "cell_type": "code",
   "execution_count": 11,
   "metadata": {},
   "outputs": [],
   "source": [
    "# function for refreshing the praphs. It is called by api_button_callback()\n",
    "def refresh_graph():\n",
    "\n",
    "    # refresh graph1 (new cases by nations)\n",
    "    current1=nations_cases.value\n",
    "    if current1==tuple([nations_cases.options[0]]):\n",
    "        other1=tuple([nations_cases.options[1]])\n",
    "    else:\n",
    "        other1=tuple([nations_cases.options[0]])\n",
    "    nations_cases.value=other1 # forces the redraw\n",
    "    nations_cases.value=current1 # now we can change it back\n",
    "\n",
    "    # refresh graph2 (new deaths by nations)\n",
    "    current2=nations_deaths.value\n",
    "    if current2==tuple([nations_deaths.options[0]]):\n",
    "        other2=tuple([nations_deaths.options[1]])\n",
    "    else:\n",
    "        other2=tuple([nations_deaths.options[0]])\n",
    "    nations_deaths.value=other2 # forces the redraw\n",
    "    nations_deaths.value=current2 # now we can change it back"
   ]
  },
  {
   "cell_type": "markdown",
   "metadata": {},
   "source": [
    "# 2) Monthly data"
   ]
  },
  {
   "cell_type": "markdown",
   "metadata": {},
   "source": [
    "- The graphs display monthly new cases and infection rate per 100k people by age groups.\n",
    "- The age groups set by the UK government are too detailed (19 age groups), so these graphs divides the whole into five age groups.\n",
    "- The graphs display monthly data from February to October of 2020. The data is fixed to the data at the time this dashboard was created, and there is no button to refresh the data."
   ]
  },
  {
   "cell_type": "code",
   "execution_count": 12,
   "metadata": {},
   "outputs": [],
   "source": [
    "# opening json files prepared in the directory\n",
    "with open(\"age.json\", \"rt\") as INFILE:\n",
    "    data=json.load(INFILE)"
   ]
  },
  {
   "cell_type": "code",
   "execution_count": 13,
   "metadata": {},
   "outputs": [],
   "source": [
    "# function extracting the data of a specific date from the json file\n",
    "def getSpecificdate(datalist, date): # datalist: json file, date:YYYY-MM-DD\n",
    "    specificdatedata = {}\n",
    "    for datadict in datalist:\n",
    "        if datadict[\"date\"] == date:\n",
    "            specificdatedata = datadict\n",
    "    return specificdatedata"
   ]
  },
  {
   "cell_type": "code",
   "execution_count": 14,
   "metadata": {},
   "outputs": [],
   "source": [
    "# function getting the minimum age from an agerange (ex. 15_to_19, 90+)\n",
    "def min_age(agerange):\n",
    "    agerange=agerange.replace('+','') # remove the + from 90+\n",
    "    start=agerange.split('_')[0]\n",
    "    return int(start)"
   ]
  },
  {
   "cell_type": "code",
   "execution_count": 15,
   "metadata": {},
   "outputs": [],
   "source": [
    "# function creating DF from json file\n",
    "def createDF(monthJson):\n",
    "    male_data=monthJson['male']\n",
    "    female_data=monthJson['female']\n",
    "    df=pd.DataFrame(index=ageranges, columns=['male_value','male_rate', 'female_value', 'female_rate', 'total_value', 'total_rate'])    \n",
    "    \n",
    "    for entry in male_data: # each entry is a dictionary\n",
    "        ageband=entry['age'] # our index position\n",
    "        df.loc[ageband, 'male_value']=entry['value']\n",
    "        df.loc[ageband, 'male_rate']=entry['rate']\n",
    "\n",
    "    for entry in female_data:\n",
    "        ageband=entry['age']\n",
    "        df.loc[ageband, 'female_value']=entry['value']\n",
    "        df.loc[ageband, 'female_rate']=entry['rate']\n",
    "        \n",
    "    df['total_value']=(df['male_value']+df['female_value'])\n",
    "    df['total_rate']=(df['male_rate']+df['female_rate'])/2\n",
    "    \n",
    "    return df"
   ]
  },
  {
   "cell_type": "code",
   "execution_count": 16,
   "metadata": {},
   "outputs": [],
   "source": [
    "# get the agerangs\n",
    "DataNov1st = getSpecificdate(data['data'], \"2020-11-01\")\n",
    "males=DataNov1st['male']\n",
    "females=DataNov1st['female']\n",
    "ageranges=[x['age'] for x in males] # each entry of males is a dictionary\n",
    "ageranges.sort(key=min_age)"
   ]
  },
  {
   "cell_type": "code",
   "execution_count": 17,
   "metadata": {},
   "outputs": [],
   "source": [
    "#  an empty DF for storing monthly data\n",
    "monthlyDF=pd.DataFrame(index=ageranges, columns=[]) "
   ]
  },
  {
   "cell_type": "code",
   "execution_count": 18,
   "metadata": {},
   "outputs": [],
   "source": [
    "# the list of months to get data (this list will be the x axis of the graphs)\n",
    "month_list = [\"Feb\", \"Mar\",\"Apr\", \"May\",\"Jun\", \"Jul\",\"Aug\", \"Sep\", \"Oct\"]"
   ]
  },
  {
   "cell_type": "code",
   "execution_count": 19,
   "metadata": {},
   "outputs": [],
   "source": [
    "for month in month_list:\n",
    "    # get the index of the month\n",
    "    list_index = month_list.index(month)\n",
    "    \n",
    "    # convert the index into str (ex. 0 => \"03\", 8 => \"11\")\n",
    "    if list_index + 3 < 10:\n",
    "        list_index_str = \"0\"+str(list_index+3)\n",
    "    else:\n",
    "        list_index_str = str(list_index+3)\n",
    "        \n",
    "    # get the data for the month\n",
    "    data_for_month = getSpecificdate(data['data'], \"2020-\"+list_index_str+\"-01\")\n",
    "\n",
    "    # populate the DF with the data of the month\n",
    "    male_data=data_for_month['male']\n",
    "    female_data=data_for_month['female']\n",
    "        \n",
    "    for entry in male_data: # each entry is a dictionary\n",
    "        ageband=entry['age'] # our index position\n",
    "        monthlyDF.loc[ageband, 'male_value']=entry['value']\n",
    "        monthlyDF.loc[ageband, 'male_rate']=entry['rate']\n",
    "\n",
    "    for entry in female_data:\n",
    "        ageband=entry['age']\n",
    "        monthlyDF.loc[ageband, 'female_value']=entry['value']\n",
    "        monthlyDF.loc[ageband, 'female_rate']=entry['rate']\n",
    "\n",
    "    monthlyDF['total_value']=(monthlyDF['male_value']+monthlyDF['female_value'])\n",
    "    monthlyDF['total_rate']=(monthlyDF['male_rate']+monthlyDF['female_rate'])/2  \n",
    "    \n",
    "    # rename the columns with the name of the month\n",
    "    monthlyDF = monthlyDF.rename(columns={'male_value': 'male_value_'+month, 'male_rate': 'male_rate_'+month,\n",
    "                                            'female_value': 'female_value_'+month, 'female_rate': 'female_rate_'+month,\n",
    "                                            'total_value': 'total_value_'+month, 'total_rate': 'total_rate_'+month\n",
    "                                         })\n",
    "    \n",
    "    # subtract the number of the previous month \n",
    "    # because we want the data that arised during the month but now every monthly data is cumulative\n",
    "    if list_index >0: # exclude the first month in the list (Feb)\n",
    "        column_list = ['male_value_'+month, 'male_rate_'+month, 'female_value_'+month,\n",
    "                       'female_rate_'+month, 'total_value_'+month, 'total_rate_'+month]\n",
    "        prev_month = month_list[list_index-1]\n",
    "        pevious_month_column_list = ['male_value_'+prev_month, 'male_rate_'+prev_month, 'female_value_'+prev_month,\n",
    "                                     'female_rate_'+prev_month, 'total_value_'+prev_month, 'total_rate_'+prev_month]\n",
    "        \n",
    "        for column in  column_list:\n",
    "            column_index = column_list.index(column)\n",
    "            prev_month = pevious_month_column_list[column_index]\n",
    "            for i in range(0, len(monthlyDF)):\n",
    "                number_of_current_month = monthlyDF.iloc[i][column]\n",
    "                number_of_previous_month  = monthlyDF.iloc[i][prev_month]\n",
    "                monthlyDF.iloc[i][column] = number_of_current_month-number_of_previous_month"
   ]
  },
  {
   "cell_type": "code",
   "execution_count": 20,
   "metadata": {},
   "outputs": [],
   "source": [
    "# create a new column in the DF that represents larger age groups\n",
    "for i in range(0, len(monthlyDF)):\n",
    "    if i in range(0,4):\n",
    "        monthlyDF.at[monthlyDF.index[i], 'age_group']=\"0_to_19\"\n",
    "    elif i in range(4,8):\n",
    "        monthlyDF.at[monthlyDF.index[i], 'age_group']=\"20_to_39\"\n",
    "    elif i in range(8,12):\n",
    "        monthlyDF.at[monthlyDF.index[i], 'age_group']=\"40_to_59\"\n",
    "    elif i in range(12,16):\n",
    "        monthlyDF.at[monthlyDF.index[i], 'age_group']=\"60_to_79\"\n",
    "    else:\n",
    "        monthlyDF.at[monthlyDF.index[i], 'age_group']=\"80+\""
   ]
  },
  {
   "cell_type": "markdown",
   "metadata": {},
   "source": [
    "## a) Monthly New Cases by Age Groups"
   ]
  },
  {
   "cell_type": "code",
   "execution_count": 21,
   "metadata": {},
   "outputs": [],
   "source": [
    "# extract \"total_value\"s and \"age_group\" from the DF\n",
    "total_monthlyDF = monthlyDF[[\"total_value_Feb\", \"total_value_Mar\", \"total_value_Apr\", \"total_value_May\", \"total_value_Jun\"\n",
    "                            ,\"total_value_Jul\", \"total_value_Aug\", \"total_value_Sep\", \"total_value_Oct\", \"age_group\"]]\n",
    "\n",
    "# group the DF by \"age_group\"\n",
    "total_monthlyDF = total_monthlyDF.groupby(\"age_group\").sum()\n",
    "\n",
    "# rename the columns (month_list = [\"Feb\", \"Mar\",\"Apr\", \"May\",\"Jun\", \"Jul\",\"Aug\", \"Sep\", \"Oct\"])\n",
    "total_monthlyDF.columns = month_list"
   ]
  },
  {
   "cell_type": "code",
   "execution_count": 24,
   "metadata": {},
   "outputs": [
    {
     "data": {
      "application/vnd.jupyter.widget-view+json": {
       "model_id": "b2dca9f382f346deb3b5af9f35cc94fc",
       "version_major": 2,
       "version_minor": 0
      },
      "text/plain": [
       "HBox(children=(Output(), VBox(children=(SelectMultiple(description='Age range:', index=(0, 1, 2, 3, 4), option…"
      ]
     },
     "metadata": {},
     "output_type": "display_data"
    }
   ],
   "source": [
    "# selecters for age groups\n",
    "monthly_cases=wdg.SelectMultiple(\n",
    "    options=['0_to_19','20_to_39','40_to_59', '60_to_79','80+'],\n",
    "    value=['0_to_19','20_to_39','40_to_59', '60_to_79','80+'],\n",
    "    rows=5,\n",
    "    description='Age range:',\n",
    "    disabled=False\n",
    ")\n",
    "\n",
    "# function for drawing a graph\n",
    "def monthly_graph(gcols):\n",
    "    ncols=len(gcols)\n",
    "    if ncols>0:\n",
    "        total_monthlyDF.T[list(gcols)].plot()\n",
    "    else:\n",
    "        print(\"Click to select data for graph\")\n",
    "        print(\"(CTRL-Click to select more than one category)\")\n",
    "            \n",
    "# define a widget of the graph\n",
    "graph=wdg.interactive_output(monthly_graph, {'gcols': monthly_cases})\n",
    "\n",
    "# define a widget of the controls\n",
    "ctrls=wdg.VBox([monthly_cases])\n",
    "\n",
    "# display the graph and controls in a horizontal layout\n",
    "display(wdg.HBox([graph, ctrls]))"
   ]
  },
  {
   "cell_type": "markdown",
   "metadata": {},
   "source": [
    "##   b) Monthly Infection Rates by Age Groups"
   ]
  },
  {
   "cell_type": "code",
   "execution_count": 25,
   "metadata": {},
   "outputs": [],
   "source": [
    "# extract \"total_rate\"s and \"age_group\" from the DF\n",
    "rate_monthlyDF = monthlyDF[[\"total_rate_Feb\", \"total_rate_Mar\", \"total_rate_Apr\", \"total_rate_May\", \"total_rate_Jun\"\n",
    "                            ,\"total_rate_Jul\", \"total_rate_Aug\", \"total_rate_Sep\", \"total_rate_Oct\", \"age_group\"]]\n",
    "\n",
    "# group the DF by \"age_group\"\n",
    "rate_monthlyDF = rate_monthlyDF.groupby(\"age_group\").mean()\n",
    "\n",
    "# rename the columns (month_list = [\"Feb\", \"Mar\",\"Apr\", \"May\",\"Jun\", \"Jul\",\"Aug\", \"Sep\", \"Oct\"])\n",
    "rate_monthlyDF.columns = month_list"
   ]
  },
  {
   "cell_type": "code",
   "execution_count": 26,
   "metadata": {},
   "outputs": [
    {
     "data": {
      "application/vnd.jupyter.widget-view+json": {
       "model_id": "aa8ab11358fe45e49c27695afd499c7e",
       "version_major": 2,
       "version_minor": 0
      },
      "text/plain": [
       "HBox(children=(Output(), VBox(children=(SelectMultiple(description='Age range:', index=(0, 1, 2, 3, 4), option…"
      ]
     },
     "metadata": {},
     "output_type": "display_data"
    }
   ],
   "source": [
    "# selecters for age groups\n",
    "monthly_cases=wdg.SelectMultiple(\n",
    "    options=['0_to_19','20_to_39','40_to_59', '60_to_79','80+'],\n",
    "    value=['0_to_19','20_to_39','40_to_59', '60_to_79','80+'],\n",
    "    rows=5,\n",
    "    description='Age range:',\n",
    "    disabled=False\n",
    ")\n",
    "\n",
    "# function for drawing a graph\n",
    "def monthly_graph(gcols):\n",
    "    ncols=len(gcols)\n",
    "    if ncols>0:\n",
    "        rate_monthlyDF.T[list(gcols)].plot()\n",
    "    else:\n",
    "        print(\"Click to select data for graph\")\n",
    "        print(\"(CTRL-Click to select more than one category)\")\n",
    "            \n",
    "# define a widget of the graph\n",
    "graph=wdg.interactive_output(monthly_graph, {'gcols': monthly_cases})\n",
    "\n",
    "# define a widget of the controls\n",
    "ctrls=wdg.VBox([monthly_cases])\n",
    "\n",
    "# display the graph and controls in a horizontal layout\n",
    "display(wdg.HBox([graph, ctrls]))"
   ]
  },
  {
   "cell_type": "markdown",
   "metadata": {},
   "source": [
    "[DIY Covid-19 Dashboard Kit](https://github.com/Hinoshita/DIY-Covid19-Dashboard.git) (C) HInoshita, 2020. All rights reserved.\n",
    "\n",
    "**Data source:** Based on UK Government [data](https://coronavirus.data.gov.uk/) published by [Public Health England](https://www.gov.uk/government/organisations/public-health-england).*"
   ]
  }
 ],
 "metadata": {
  "kernelspec": {
   "display_name": "Python 3",
   "language": "python",
   "name": "python3"
  },
  "language_info": {
   "codemirror_mode": {
    "name": "ipython",
    "version": 3
   },
   "file_extension": ".py",
   "mimetype": "text/x-python",
   "name": "python",
   "nbconvert_exporter": "python",
   "pygments_lexer": "ipython3",
   "version": "3.8.3"
  }
 },
 "nbformat": 4,
 "nbformat_minor": 4
}
